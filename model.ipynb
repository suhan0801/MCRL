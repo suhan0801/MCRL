{
 "cells": [
  {
   "cell_type": "code",
   "execution_count": 102,
   "metadata": {},
   "outputs": [],
   "source": [
    "import os\n",
    "import re\n",
    "import time\n",
    "import logging\n",
    "import asyncio\n",
    "import torch\n",
    "import torch.nn as nn\n",
    "import torch.optim as optim\n",
    "import matplotlib.pyplot as plt\n",
    "import cv2\n",
    "import mss\n",
    "import numpy as np\n",
    "import pydirectinput\n",
    "import pyautogui\n",
    "from torch.distributions import Categorical\n",
    "from mcrcon import MCRcon\n",
    "from concurrent.futures import ThreadPoolExecutor"
   ]
  },
  {
   "cell_type": "code",
   "execution_count": 103,
   "metadata": {},
   "outputs": [],
   "source": [
    "# 配置日誌記錄\n",
    "logging.basicConfig(level=logging.INFO)\n",
    "logger = logging.getLogger(__name__)"
   ]
  },
  {
   "cell_type": "code",
   "execution_count": 104,
   "metadata": {},
   "outputs": [],
   "source": [
    "# 截圖工具 (使用 mss 截取螢幕)\n",
    "class ScreenCapture:\n",
    "    def __init__(self, monitor=None):\n",
    "        self.sct = mss.mss()  # 初始化 mss\n",
    "        self.monitor = monitor or self.sct.monitors[1]  # 預設使用主螢幕\n",
    "\n",
    "    def capture(self):\n",
    "        # 截取螢幕畫面\n",
    "        img = self.sct.grab(self.monitor)\n",
    "        img_np = np.array(img)  # 轉換為 numpy 陣列\n",
    "        img_gray = cv2.cvtColor(img_np, cv2.COLOR_BGR2GRAY)  # 轉換為灰度圖\n",
    "        img_resized = cv2.resize(img_gray, (84, 84))  # 調整大小為 84x84\n",
    "        img_tensor = torch.FloatTensor(img_resized).unsqueeze(0).unsqueeze(0).to(device) # 轉為張量並移動到設備上\n",
    "        return img_tensor"
   ]
  },
  {
   "cell_type": "code",
   "execution_count": 105,
   "metadata": {},
   "outputs": [],
   "source": [
    "# Actor-Critic 網路\n",
    "class ActorCriticCNN(nn.Module):\n",
    "    def __init__(self, action_dim, hidden_dim=256):\n",
    "        super(ActorCriticCNN, self).__init__()\n",
    "        self.device = torch.device(\"cuda\" if torch.cuda.is_available() else \"cpu\")\n",
    "        self.conv = nn.Sequential(\n",
    "            nn.Conv2d(1, 32, kernel_size=8, stride=4),\n",
    "            nn.ReLU(),\n",
    "            nn.Conv2d(32, 64, kernel_size=4, stride=2),\n",
    "            nn.ReLU(),\n",
    "            nn.Conv2d(64, 64, kernel_size=3, stride=1), \n",
    "            nn.ReLU()  \n",
    "        ).to(self.device)\n",
    "        self.fc_actor = self._init_fc_layer(hidden_dim, action_dim)\n",
    "        self.fc_critic = self._init_fc_layer(hidden_dim, 1)\n",
    "\n",
    "    def _init_fc_layer(self, hidden_dim, output_dim):\n",
    "        return nn.Sequential(\n",
    "            nn.Linear(64 * 7 * 7, hidden_dim),\n",
    "            nn.ReLU(),\n",
    "            nn.Linear(hidden_dim, output_dim),\n",
    "            nn.Softmax(dim=-1) if output_dim > 1 else nn.Identity()\n",
    "        ).to(self.device)\n",
    "\n",
    "    def forward(self, x):\n",
    "        x = x.to(self.device)\n",
    "        x = self.conv(x)\n",
    "        x = x.view(x.size(0), -1)\n",
    "        return x\n",
    "\n",
    "    def get_action(self, state):\n",
    "        x = self.forward(state)\n",
    "        probs = self.fc_actor(x)\n",
    "        dist = Categorical(probs)\n",
    "        action = dist.sample()\n",
    "        return action, dist.log_prob(action), dist.entropy().mean()\n",
    "\n",
    "    def evaluate_actions(self, state, action):\n",
    "        x = self.forward(state)\n",
    "        probs = self.fc_actor(x)\n",
    "        dist = Categorical(probs)\n",
    "        action_logprobs = dist.log_prob(action)\n",
    "        dist_entropy = dist.entropy().mean()\n",
    "        state_value = self.fc_critic(x)\n",
    "        return action_logprobs, state_value, dist_entropy"
   ]
  },
  {
   "cell_type": "code",
   "execution_count": 106,
   "metadata": {},
   "outputs": [],
   "source": [
    "# Memory 類來儲存狀態、動作等\n",
    "class Memory:\n",
    "    def __init__(self):\n",
    "        self.states = []\n",
    "        self.actions = []\n",
    "        self.logprobs = []\n",
    "        self.rewards = []\n",
    "        self.is_terminals = []\n",
    "\n",
    "    def clear(self):\n",
    "        self.states.clear()\n",
    "        self.actions.clear()\n",
    "        self.logprobs.clear()\n",
    "        self.rewards.clear()\n",
    "        self.is_terminals.clear()\n",
    "\n",
    "    def store(self, state, action, logprob, reward, done):\n",
    "        self.states.append(state)\n",
    "        self.actions.append(action)\n",
    "        self.logprobs.append(logprob)\n",
    "        self.rewards.append(reward)\n",
    "        self.is_terminals.append(done)\n",
    "\n",
    "    def compute_returns(self, gamma, device):\n",
    "        returns = []\n",
    "        discounted_reward = 0\n",
    "        for reward, is_terminal in zip(reversed(self.rewards), reversed(self.is_terminals)):\n",
    "            if is_terminal:\n",
    "                discounted_reward = 0\n",
    "            discounted_reward = reward + gamma * discounted_reward\n",
    "            returns.insert(0, discounted_reward)\n",
    "        return torch.tensor(returns, dtype=torch.float32).to(device)\n",
    "\n"
   ]
  },
  {
   "cell_type": "code",
   "execution_count": 107,
   "metadata": {},
   "outputs": [],
   "source": [
    "\n",
    "# PPO 演算法實現\n",
    "class PPO:\n",
    "    def __init__(self, action_dim, lr=0.0003, gamma=0.99, eps_clip=0.2, K_epochs=4):\n",
    "        self.device = torch.device(\"cuda\" if torch.cuda.is_available() else \"cpu\")\n",
    "        self.policy = ActorCriticCNN(action_dim).to(self.device)\n",
    "        self.optimizer = optim.Adam(self.policy.parameters(), lr=lr)\n",
    "        self.policy_old = ActorCriticCNN(action_dim).to(self.device)\n",
    "        self.policy_old.load_state_dict(self.policy.state_dict())\n",
    "        self.gamma = gamma\n",
    "        self.eps_clip = eps_clip\n",
    "        self.K_epochs = K_epochs\n",
    "        self.MseLoss = nn.MSELoss()\n",
    "\n",
    "    def update(self, memory):\n",
    "        old_states = torch.stack(memory.states).to(self.device).detach()\n",
    "        old_actions = torch.stack(memory.actions).to(self.device).detach()\n",
    "        old_logprobs = torch.stack(memory.logprobs).to(self.device).detach()\n",
    "\n",
    "        for _ in range(self.K_epochs):\n",
    "            logprobs, state_values, dist_entropy = self.policy.evaluate_actions(old_states, old_actions)\n",
    "            ratios = torch.exp(logprobs - old_logprobs.detach())\n",
    "            advantages = memory.compute_returns(self.gamma, self.device) - state_values.detach()\n",
    "\n",
    "            surr1 = ratios * advantages\n",
    "            surr2 = torch.clamp(ratios, 1 - self.eps_clip, 1 + self.eps_clip) * advantages\n",
    "\n",
    "            loss = -torch.min(surr1, surr2) + 0.5 * self.MseLoss(state_values, memory.compute_returns(self.gamma, self.device)) - 0.01 * dist_entropy\n",
    "\n",
    "            self.optimizer.zero_grad()\n",
    "            loss.mean().backward()\n",
    "            nn.utils.clip_grad_norm_(self.policy.parameters(), max_norm=0.5)  # 梯度裁剪，防止梯度爆炸\n",
    "            self.optimizer.step()\n",
    "\n",
    "        self.policy_old.load_state_dict(self.policy.state_dict())\n"
   ]
  },
  {
   "cell_type": "code",
   "execution_count": 108,
   "metadata": {},
   "outputs": [],
   "source": [
    "\n",
    "def perform_action(action):\n",
    "    actions = [\"w\", \"a\", \"s\", \"d\", \"space\",\"shift\"]\n",
    "    \n",
    "    if action < len(actions):\n",
    "        # 單一按鍵動作\n",
    "        pydirectinput.press(actions[action])\n",
    "    \n",
    "    elif action == 6:\n",
    "        # 向右移動滑鼠 \n",
    "        pyautogui.move(350, 0)\n",
    "        \n",
    "    elif action == 7:\n",
    "        # 向下移動滑鼠\n",
    "        pyautogui.move(0, 350)\n",
    "        \n",
    "    elif action == 8:\n",
    "        # 向左移動滑鼠\n",
    "        pyautogui.move(-350, 0)\n",
    "        \n",
    "    elif action == 9:\n",
    "        # 向上移動滑鼠\n",
    "        pyautogui.move(0, -350)\n",
    "    \n",
    "    elif action == 10:\n",
    "        pydirectinput.keyDown('g')\n",
    "        pydirectinput.keyDown('w')\n",
    "        pydirectinput.keyUp('g')\n",
    "        pydirectinput.press('space')\n",
    "        pydirectinput.keyUp('w')\n",
    "\n",
    "    elif action == 11:\n",
    "\n",
    "        pydirectinput.keyDown('shift')\n",
    "        pydirectinput.keyDown('s')\n",
    "        time.sleep(0.5)\n",
    "        pydirectinput.keyUp('s')\n",
    "        time.sleep(0.1)\n",
    "        pydirectinput.keyUp('shift')\n",
    "\n",
    "\n",
    "    elif action == 12:\n",
    "\n",
    "        pydirectinput.keyDown('shift')\n",
    "        pydirectinput.keyDown('w')\n",
    "        time.sleep(0.5)\n",
    "        pydirectinput.keyUp('w')\n",
    "        time.sleep(0.1)\n",
    "        pydirectinput.keyUp('shift')\n",
    "\n",
    "\n"
   ]
  },
  {
   "cell_type": "code",
   "execution_count": 109,
   "metadata": {},
   "outputs": [],
   "source": [
    "# 儲存模型函數\n",
    "def save_model(policy, filename=\"ppo_model.pth\"):\n",
    "    torch.save(policy.state_dict(), filename)\n",
    "    logger.info(f\"模型已保存至 {filename}\")"
   ]
  },
  {
   "cell_type": "code",
   "execution_count": 110,
   "metadata": {},
   "outputs": [],
   "source": [
    "# 獲取遊戲狀態的函數\n",
    "SERVER_IP = os.environ.get(\"MINECRAFT_SERVER_IP\", \"25.10.63.224\")\n",
    "RCON_PASSWORD = os.environ.get(\"MINECRAFT_RCON_PASSWORD\", \"mySuperSecretPassword123\")\n",
    "RCON_PORT = int(os.environ.get(\"MINECRAFT_RCON_PORT\", \"25575\"))\n",
    "def get_game_state():\n",
    "    try:\n",
    "        with MCRcon(SERVER_IP, RCON_PASSWORD, port=RCON_PORT) as mcr:\n",
    "            response_value = mcr.command(\"/scoreboard players get Suhan_0801 value\")\n",
    "            response_death = mcr.command(\"/scoreboard players get Suhan_0801 death\")\n",
    "            value = re.search(r'has (\\d+)',response_value)\n",
    "            death = re.search(r'has (\\d+)', response_death)\n",
    "            value = int(value.group(1))\n",
    "            death = int(death.group(1))\n",
    "            return value, death\n",
    "    except Exception as e:\n",
    "        logger.error(f\"Error getting game state: {e}\")\n",
    "        return None, None"
   ]
  },
  {
   "cell_type": "code",
   "execution_count": 111,
   "metadata": {},
   "outputs": [
    {
     "name": "stdout",
     "output_type": "stream",
     "text": [
      "0 0\n",
      "0 0\n",
      "0 0\n",
      "0 0\n",
      "0 0\n",
      "0 0\n",
      "0 0\n"
     ]
    },
    {
     "name": "stderr",
     "output_type": "stream",
     "text": [
      "INFO:__main__:Episode 1/10, Total Reward: -10.7\n"
     ]
    },
    {
     "name": "stdout",
     "output_type": "stream",
     "text": [
      "1 0\n"
     ]
    },
    {
     "name": "stderr",
     "output_type": "stream",
     "text": [
      "INFO:__main__:Episode 2/10, Total Reward: -10\n"
     ]
    },
    {
     "name": "stdout",
     "output_type": "stream",
     "text": [
      "1 0\n"
     ]
    },
    {
     "name": "stderr",
     "output_type": "stream",
     "text": [
      "INFO:__main__:Episode 3/10, Total Reward: -10\n"
     ]
    },
    {
     "name": "stdout",
     "output_type": "stream",
     "text": [
      "1 0\n"
     ]
    },
    {
     "name": "stderr",
     "output_type": "stream",
     "text": [
      "INFO:__main__:Episode 4/10, Total Reward: -10\n"
     ]
    },
    {
     "name": "stdout",
     "output_type": "stream",
     "text": [
      "1 0\n"
     ]
    },
    {
     "name": "stderr",
     "output_type": "stream",
     "text": [
      "INFO:__main__:Episode 5/10, Total Reward: -10\n"
     ]
    },
    {
     "name": "stdout",
     "output_type": "stream",
     "text": [
      "1 0\n"
     ]
    },
    {
     "name": "stderr",
     "output_type": "stream",
     "text": [
      "INFO:__main__:Episode 6/10, Total Reward: -10\n",
      "INFO:__main__:Episode 7/10, Total Reward: -10\n"
     ]
    },
    {
     "name": "stdout",
     "output_type": "stream",
     "text": [
      "1 0\n",
      "1 0\n"
     ]
    },
    {
     "name": "stderr",
     "output_type": "stream",
     "text": [
      "INFO:__main__:Episode 8/10, Total Reward: -10\n"
     ]
    },
    {
     "name": "stdout",
     "output_type": "stream",
     "text": [
      "2 0\n"
     ]
    },
    {
     "name": "stderr",
     "output_type": "stream",
     "text": [
      "INFO:__main__:Episode 9/10, Total Reward: -10\n"
     ]
    },
    {
     "name": "stdout",
     "output_type": "stream",
     "text": [
      "2 0\n"
     ]
    },
    {
     "name": "stderr",
     "output_type": "stream",
     "text": [
      "INFO:__main__:Episode 10/10, Total Reward: -10\n",
      "INFO:__main__:模型已保存至 ppo_model.pth\n"
     ]
    },
    {
     "name": "stdout",
     "output_type": "stream",
     "text": [
      "2 0\n"
     ]
    },
    {
     "data": {
      "image/png": "[encoded data removed]",
      "text/plain": [
       "<Figure size 640x480 with 1 Axes>"
      ]
     },
     "metadata": {},
     "output_type": "display_data"
    }
   ],
   "source": [
    "\n",
    "time.sleep(6)\n",
    "\n",
    "# 主要超參數設置\n",
    "device = torch.device(\"cuda\" if torch.cuda.is_available() else \"cpu\")\n",
    "action_dim = 13\n",
    "memory = Memory()\n",
    "ppo = PPO(action_dim)\n",
    "episodes = 10\n",
    "max_timesteps = 500\n",
    "gamma = 0.99\n",
    "update_timestep = 2000\n",
    "timestep = 0\n",
    "rewards_per_episode = []\n",
    "\n",
    "# 訓練結束後儲存模型\n",
    "\n",
    "# 開始訓練迴圈\n",
    "for episode in range(episodes):\n",
    "    total_reward = 0\n",
    "    previous_value, previous_death = 0, 0\n",
    "    done = False\n",
    "\n",
    "    for t in range(max_timesteps):\n",
    "        timestep += 1\n",
    "        screen = ScreenCapture().capture()\n",
    "        action, logprob, _ = ppo.policy_old.get_action(screen)\n",
    "\n",
    "        perform_action(action.item())  # 執行動作\n",
    "\n",
    "        value, death = get_game_state()\n",
    "        if previous_value is not None and previous_death is not None:\n",
    "            if value > previous_value:\n",
    "                reward = 1\n",
    "            elif death > previous_death:\n",
    "                reward = -10\n",
    "                done = True\n",
    "            else:\n",
    "                reward = -0.1\n",
    "        else:\n",
    "            reward = 0\n",
    "\n",
    "        previous_value, previous_death = value, death\n",
    "        print(death,previous_death)\n",
    "        memory.store(screen, action, logprob, reward, done)\n",
    "        total_reward += reward\n",
    "\n",
    "        if timestep % update_timestep == 0:\n",
    "            memory.returns = memory.compute_returns(gamma, device)\n",
    "            ppo.update(memory)\n",
    "            memory.clear()\n",
    "            timestep = 0\n",
    "\n",
    "        if done:\n",
    "            break\n",
    " \n",
    "    rewards_per_episode.append(total_reward)\n",
    "    logger.info(f\"Episode {episode + 1}/{episodes}, Total Reward: {total_reward}\")\n",
    "\n",
    "# 繪製獎勵圖表\n",
    "\n",
    "save_model(ppo.policy)\n",
    "\n",
    "plt.plot(rewards_per_episode)\n",
    "plt.title('Total Reward per Episode')\n",
    "plt.xlabel('Episode')\n",
    "plt.ylabel('Total Reward')\n",
    "plt.show()"
   ]
  },
  {
   "cell_type": "markdown",
   "metadata": {},
   "source": [
    "RCON 連接測試 打勾\n",
    "\n",
    "了解異步概念  打勾\n",
    "\n",
    "RuntimeWarning 沒有正確等待 打勾\n",
    "\n",
    "滑鼠控制問題(會跑到左上角)  打勾\n",
    "\n",
    "重寫獎勵函數 \n",
    "\n",
    "\n"
   ]
  }
 ],
 "metadata": {
  "kernelspec": {
   "display_name": "base",
   "language": "python",
   "name": "python3"
  },
  "language_info": {
   "codemirror_mode": {
    "name": "ipython",
    "version": 3
   },
   "file_extension": ".py",
   "mimetype": "text/x-python",
   "name": "python",
   "nbconvert_exporter": "python",
   "pygments_lexer": "ipython3",
   "version": "3.11.7"
  }
 },
 "nbformat": 4,
 "nbformat_minor": 2
}
